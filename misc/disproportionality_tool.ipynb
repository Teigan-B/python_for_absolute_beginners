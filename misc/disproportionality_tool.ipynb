{
 "cells": [
  {
   "cell_type": "code",
   "execution_count": 3,
   "metadata": {},
   "outputs": [],
   "source": [
    "#  basic packages for data importing and munging\n",
    "import numpy as np\n",
    "import pandas as pd\n",
    "\n",
    "#  packages for graphing and plotting\n",
    "import matplotlib.pyplot as plt\n",
    "import seaborn as sns\n",
    "from pandas.plotting import table \n",
    "\n",
    "#  packages for statistical and mathematical work\n",
    "from random import randrange\n",
    "import scipy.stats as stats\n",
    "from scipy.stats import chisquare\n",
    "\n",
    "\n",
    "#  packages to download the CSV right from the gov.uk website\n",
    "import json\n",
    "import requests\n",
    "import io\n",
    "import zipfile\n"
   ]
  },
  {
   "cell_type": "code",
   "execution_count": 8,
   "metadata": {},
   "outputs": [
    {
     "ename": "BadZipFile",
     "evalue": "File is not a zip file",
     "output_type": "error",
     "traceback": [
      "\u001b[0;31m---------------------------------------------------------------------------\u001b[0m",
      "\u001b[0;31mBadZipFile\u001b[0m                                Traceback (most recent call last)",
      "Cell \u001b[0;32mIn[8], line 48\u001b[0m\n\u001b[1;32m     46\u001b[0m r \u001b[38;5;241m=\u001b[39m requests\u001b[38;5;241m.\u001b[39mget(\u001b[38;5;124m'\u001b[39m\u001b[38;5;124mhttps://content.explore-education-statistics.service.gov.uk/api/releases/cf516998-1dc1-411d-8225-13f6320547fb/files\u001b[39m\u001b[38;5;124m'\u001b[39m, stream\u001b[38;5;241m=\u001b[39m\u001b[38;5;28;01mTrue\u001b[39;00m)\n\u001b[1;32m     47\u001b[0m r\u001b[38;5;241m.\u001b[39mok\n\u001b[0;32m---> 48\u001b[0m z\u001b[38;5;241m=\u001b[39m\u001b[43mzipfile\u001b[49m\u001b[38;5;241;43m.\u001b[39;49m\u001b[43mZipFile\u001b[49m\u001b[43m(\u001b[49m\u001b[43mio\u001b[49m\u001b[38;5;241;43m.\u001b[39;49m\u001b[43mBytesIO\u001b[49m\u001b[43m(\u001b[49m\u001b[43mr\u001b[49m\u001b[38;5;241;43m.\u001b[39;49m\u001b[43mcontent\u001b[49m\u001b[43m)\u001b[49m\u001b[43m)\u001b[49m\n\u001b[1;32m     49\u001b[0m z_open \u001b[38;5;241m=\u001b[39m z\u001b[38;5;241m.\u001b[39mopen(\u001b[38;5;124m'\u001b[39m\u001b[38;5;124mdata/spc_pupils_ethnicity_and_language_.csv\u001b[39m\u001b[38;5;124m'\u001b[39m)\n\u001b[1;32m     50\u001b[0m \u001b[38;5;66;03m# data = pd.read_csv(z)\u001b[39;00m\n\u001b[1;32m     51\u001b[0m \n\u001b[1;32m     52\u001b[0m \u001b[38;5;66;03m#use the pandas read csv function to read the csv in the z_open variable\u001b[39;00m\n",
      "File \u001b[0;32m~/.python/current/lib/python3.10/zipfile.py:1269\u001b[0m, in \u001b[0;36mZipFile.__init__\u001b[0;34m(self, file, mode, compression, allowZip64, compresslevel, strict_timestamps)\u001b[0m\n\u001b[1;32m   1267\u001b[0m \u001b[38;5;28;01mtry\u001b[39;00m:\n\u001b[1;32m   1268\u001b[0m     \u001b[38;5;28;01mif\u001b[39;00m mode \u001b[38;5;241m==\u001b[39m \u001b[38;5;124m'\u001b[39m\u001b[38;5;124mr\u001b[39m\u001b[38;5;124m'\u001b[39m:\n\u001b[0;32m-> 1269\u001b[0m         \u001b[38;5;28;43mself\u001b[39;49m\u001b[38;5;241;43m.\u001b[39;49m\u001b[43m_RealGetContents\u001b[49m\u001b[43m(\u001b[49m\u001b[43m)\u001b[49m\n\u001b[1;32m   1270\u001b[0m     \u001b[38;5;28;01melif\u001b[39;00m mode \u001b[38;5;129;01min\u001b[39;00m (\u001b[38;5;124m'\u001b[39m\u001b[38;5;124mw\u001b[39m\u001b[38;5;124m'\u001b[39m, \u001b[38;5;124m'\u001b[39m\u001b[38;5;124mx\u001b[39m\u001b[38;5;124m'\u001b[39m):\n\u001b[1;32m   1271\u001b[0m         \u001b[38;5;66;03m# set the modified flag so central directory gets written\u001b[39;00m\n\u001b[1;32m   1272\u001b[0m         \u001b[38;5;66;03m# even if no files are added to the archive\u001b[39;00m\n\u001b[1;32m   1273\u001b[0m         \u001b[38;5;28mself\u001b[39m\u001b[38;5;241m.\u001b[39m_didModify \u001b[38;5;241m=\u001b[39m \u001b[38;5;28;01mTrue\u001b[39;00m\n",
      "File \u001b[0;32m~/.python/current/lib/python3.10/zipfile.py:1336\u001b[0m, in \u001b[0;36mZipFile._RealGetContents\u001b[0;34m(self)\u001b[0m\n\u001b[1;32m   1334\u001b[0m     \u001b[38;5;28;01mraise\u001b[39;00m BadZipFile(\u001b[38;5;124m\"\u001b[39m\u001b[38;5;124mFile is not a zip file\u001b[39m\u001b[38;5;124m\"\u001b[39m)\n\u001b[1;32m   1335\u001b[0m \u001b[38;5;28;01mif\u001b[39;00m \u001b[38;5;129;01mnot\u001b[39;00m endrec:\n\u001b[0;32m-> 1336\u001b[0m     \u001b[38;5;28;01mraise\u001b[39;00m BadZipFile(\u001b[38;5;124m\"\u001b[39m\u001b[38;5;124mFile is not a zip file\u001b[39m\u001b[38;5;124m\"\u001b[39m)\n\u001b[1;32m   1337\u001b[0m \u001b[38;5;28;01mif\u001b[39;00m \u001b[38;5;28mself\u001b[39m\u001b[38;5;241m.\u001b[39mdebug \u001b[38;5;241m>\u001b[39m \u001b[38;5;241m1\u001b[39m:\n\u001b[1;32m   1338\u001b[0m     \u001b[38;5;28mprint\u001b[39m(endrec)\n",
      "\u001b[0;31mBadZipFile\u001b[0m: File is not a zip file"
     ]
    }
   ],
   "source": [
    "ethnic_input = {\n",
    "'White_White_British' : 60000,\n",
    "'White_Any_other_White_background' : 3000,\n",
    "'White_Gypsy_Roma' : 300,\n",
    "'White_Irish' :250,\n",
    "'White_Traveller_of_Irish_heritage' : 80,\n",
    "'Asian_Any_other_Asian_background' : 558,\n",
    "'Asian_Bangladeshi' : 871,\n",
    "'Asian_Chinese' : 244,\n",
    "'Asian_Indian' : 350,\n",
    "'Asian_Pakistani' : 70,\n",
    "'Black_Any_other_Black_background' : 120,\n",
    "'Black_Black_African' : 500,\n",
    "'Black_Black_Caribbean' : 90,\n",
    "'Mixed_Any_other_Mixed_background' : 1500,\n",
    "'Mixed_White_and_Asian' : 730,\n",
    "'Mixed_White_and_Black_African' : 839,\n",
    "'Mixed_White_and_Black_Caribbean' : 751,\n",
    "'Any_other_ethnic_group' : 558,\n",
    "'Not_obtained' : 0,\n",
    "'Refused' : 0,\n",
    "'Unclassified' : 1120,\n",
    "'White' : 63630,\n",
    "'Asian' : 2093,\n",
    "'Black' : 710,\n",
    "'Mixed' : 3820,\n",
    "'Other' : 558,\n",
    "'Unclassified_total' : 1120,\n",
    "}\n",
    "\n",
    "\n",
    "#  input time period\n",
    "Year = 202122\n",
    "\n",
    "#  input LA name\n",
    "LAname = 'East Sussex'\n",
    "\n",
    "InputList = [*ethnic_input.values()]\n",
    "\n",
    "#  The following code specifies the url location of the DfE census so you can run this notebook without doanloading any files\n",
    "\n",
    "#  r = requests.get specifies a URL location and an action of getting data from that URL to variable r\n",
    "#  r.ok returns true if r has been properly assigned\n",
    "#  z is assigned to using the zip file package to open the zipped file from the gov.uk website which contains the school census data, which is read by io.bytes\n",
    "#  https://stackoverflow.com/questions/32400867/pandas-read-csv-from-url\n",
    "r = requests.get('https://content.explore-education-statistics.service.gov.uk/api/releases/cf516998-1dc1-411d-8225-13f6320547fb/files', stream=True)\n",
    "r.ok\n",
    "z=zipfile.ZipFile(io.BytesIO(r.content))\n",
    "z_open = z.open('data/spc_pupils_ethnicity_and_language_.csv')\n",
    "# data = pd.read_csv(z)\n",
    "\n",
    "#use the pandas read csv function to read the csv in the z_open variable\n",
    "\n"
   ]
  },
  {
   "cell_type": "code",
   "execution_count": null,
   "metadata": {},
   "outputs": [],
   "source": []
  }
 ],
 "metadata": {
  "kernelspec": {
   "display_name": "Python 3",
   "language": "python",
   "name": "python3"
  },
  "language_info": {
   "codemirror_mode": {
    "name": "ipython",
    "version": 3
   },
   "file_extension": ".py",
   "mimetype": "text/x-python",
   "name": "python",
   "nbconvert_exporter": "python",
   "pygments_lexer": "ipython3",
   "version": "3.10.13"
  }
 },
 "nbformat": 4,
 "nbformat_minor": 2
}
