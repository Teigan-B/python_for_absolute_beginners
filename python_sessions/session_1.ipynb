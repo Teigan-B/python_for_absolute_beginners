{
 "cells": [
  {
   "cell_type": "code",
   "execution_count": 2,
   "metadata": {},
   "outputs": [
    {
     "name": "stdout",
     "output_type": "stream",
     "text": [
      "<class 'float'>\n",
      "<class 'str'>\n"
     ]
    }
   ],
   "source": [
    "# print is a function that, for our simple purposes, will show you \n",
    "# in the terminal (or on the page in Jupyter) the data stored in a variable\n",
    "\n",
    "# printing the type of a variable tells us what data is stored in it, \n",
    "# floats are numbers with decimals\n",
    "\n",
    "num_1 = 5\n",
    "num_2 = 5.0\n",
    "num_3 = \"5\"\n",
    "\n",
    "print(type(num_2))\n",
    "\n",
    "x = \"5\"\n",
    "y = \"10\"\n",
    "z = x + y\n",
    "print(type(z))"
   ]
  },
  {
   "cell_type": "code",
   "execution_count": 3,
   "metadata": {},
   "outputs": [
    {
     "name": "stdout",
     "output_type": "stream",
     "text": [
      "510\n",
      "50\n"
     ]
    }
   ],
   "source": [
    "# This is a string, we use a string to tell Python the data stored should be text, \n",
    "# not code or numbers. As will be seen, strings act differently to floats/ints\n",
    "# As we can see, addition of strings concats those strings\n",
    "\n",
    "x = \"5\"\n",
    "y = \"10\"\n",
    "z = x + y\n",
    "print(z)\n",
    "\n",
    "x = 5\n",
    "y = 10\n",
    "z = x * y\n",
    "print(z)"
   ]
  },
  {
   "cell_type": "code",
   "execution_count": 4,
   "metadata": {},
   "outputs": [
    {
     "name": "stdout",
     "output_type": "stream",
     "text": [
      "6\n"
     ]
    }
   ],
   "source": [
    "x = x+1\n",
    "print(x)\n",
    "#if re-run, will keep getting higher; have to refresh memory. Cna get rid of \n",
    "# memory by pressing restart"
   ]
  },
  {
   "cell_type": "code",
   "execution_count": 5,
   "metadata": {},
   "outputs": [
    {
     "name": "stdout",
     "output_type": "stream",
     "text": [
      "12.56\n"
     ]
    }
   ],
   "source": [
    "# The radius of a circle is 2, assume that Pi is 3.14. Assign both of these \n",
    "# to suitably named variables and find the area of the circle.\n",
    "# We can find the area of a circle by finding the product of Pi with the radius squared.\n",
    "\n",
    "pi = 3.14\n",
    "r = 2\n",
    "circle_area = pi * (r**2)\n",
    "print(circle_area)"
   ]
  },
  {
   "cell_type": "code",
   "execution_count": 6,
   "metadata": {},
   "outputs": [
    {
     "name": "stdout",
     "output_type": "stream",
     "text": [
      "Teigan likes reading\n",
      "CIN Plans per year (rate per 10,000)\n"
     ]
    }
   ],
   "source": [
    "#  As we can see, addition of strings concats those strings\n",
    "\n",
    "name = \"Teigan\"\n",
    "hobby = \"reading\"\n",
    "\n",
    "phrase = name +\" likes \"+ hobby\n",
    "print(phrase)\n",
    "\n",
    "value_x = \"CIN Plans\"\n",
    "title = value_x + \" per year (rate per 10,000)\"\n",
    "print(title)"
   ]
  },
  {
   "cell_type": "code",
   "execution_count": 7,
   "metadata": {},
   "outputs": [
    {
     "name": "stdout",
     "output_type": "stream",
     "text": [
      "My name is Will, and I like Trail Running.\n",
      "My name is Will, and I like Trail Running.\n"
     ]
    }
   ],
   "source": [
    "name = \"Will\"\n",
    "hobby = \"Trail Running\"\n",
    "\n",
    "phrase_1 = \"My name is \" + name + \", and I like \" + hobby + \".\"\n",
    "\n",
    "print(phrase_1)\n",
    "\n",
    "# The below is an 'f string' which allows us to insert variables INSIDE a string\n",
    "\n",
    "phrase_2 = f\"My name is {name}, and I like {hobby}.\"\n",
    "print(phrase_2)\n",
    "\n",
    "# String behaviour and f strings can be useful when we want to join up variables \n",
    "# of strings, really useful when making dynamic titles for visualisations"
   ]
  },
  {
   "cell_type": "code",
   "execution_count": 8,
   "metadata": {},
   "outputs": [
    {
     "name": "stdout",
     "output_type": "stream",
     "text": [
      "My name is Teigan, and my job title is Performance Officer.\n"
     ]
    }
   ],
   "source": [
    "# In this cell, initialise two appropriately named variables, one for your name and one for your job title.\n",
    "# Next, combine them in an f string, assigned to a different, appropriately named variable.\n",
    "# Finally, print the f string.\n",
    " \n",
    "name = \"Teigan\"\n",
    "job_title = \"Performance Officer\"\n",
    "\n",
    "sentence = f\"My name is {name}, and my job title is {job_title}.\"\n",
    "\n",
    "print(sentence)"
   ]
  },
  {
   "cell_type": "code",
   "execution_count": 9,
   "metadata": {},
   "outputs": [
    {
     "name": "stdout",
     "output_type": "stream",
     "text": [
      "13579\n",
      "987654321\n",
      "child_data\n"
     ]
    }
   ],
   "source": [
    "# strings are interesting as we can easily select certain parts of them \n",
    "# by selecting a range in square brackets. When using square brackets to slice a range, \n",
    "# the number to the left is INCLUSIVE, the number to the right is EXCLUSIVE\n",
    "# You'll notice this new string starts at y, why? In most instances, \n",
    "# most things in Pythonc ount from 0 as the first index location.\n",
    "\n",
    "\n",
    "num_string = \"123456789\"\n",
    "sub_string = num_string[::2]\n",
    "print(sub_string)\n",
    "\n",
    "# We can also start the count from the end of the string, \n",
    "# here -4 means I want my last character to be 4 from the end.\n",
    "# When we don't put a number on one side of the colon, \n",
    "# it means 'take everything this side of the range', so string[4:] would mean take everything\n",
    "# after the 4th character\n",
    "\n",
    "um_string = \"123456789\"\n",
    "sub_string = num_string[-1::-1]\n",
    "print(sub_string)\n",
    "\n",
    "filename = \"child_data.csv\"\n",
    "filename = filename[:-4]\n",
    "print(filename)"
   ]
  },
  {
   "cell_type": "code",
   "execution_count": 10,
   "metadata": {},
   "outputs": [
    {
     "name": "stdout",
     "output_type": "stream",
     "text": [
      "<class 'list'>\n",
      "['blue', 'red', 'green']\n"
     ]
    }
   ],
   "source": [
    "# We can initialise a list by using square brackets and assigning \n",
    "# them to a variable. We seperate elements of a list with commas. \n",
    "# We can put pretty much whatever we want in a list: ints, strings, \n",
    "# dictionaries, other lists, a whole range of things.\n",
    "\n",
    "# Even though there's nothing in here, it's a list, we can check by printing type(list_1)\n",
    "\n",
    "list_1 = []\n",
    "print(type(list_1))\n",
    "\n",
    "colours_list = [\"blue\", \"red\", \"green\"]\n",
    "print(colours_list)"
   ]
  },
  {
   "cell_type": "code",
   "execution_count": 11,
   "metadata": {},
   "outputs": [
    {
     "name": "stdout",
     "output_type": "stream",
     "text": [
      "['blue', 'red', 'green', 'yellow']\n",
      "['blue', 'red', 'green', 'yellow', ['purple', 'pink']]\n",
      "['blue', 'red', 'green', 'yellow', ['purple', 'pink'], 'purple', 'pink']\n",
      "['green', 'yellow', ['purple', 'pink']]\n"
     ]
    }
   ],
   "source": [
    "# The append method adds whatever is being appended to a list as one item in a list\n",
    "\n",
    "colours_list.append(\"yellow\")\n",
    "print(colours_list)\n",
    "\n",
    "extra_colours = [\"purple\", \"pink\"]\n",
    "colours_list.append(extra_colours)\n",
    "print(colours_list)\n",
    "\n",
    "# You can see here it's appended the whole list extra_colours as one item in the list\n",
    "# Instead, we can extend a to have each element of a list as a new element in another list with the .extend() method\n",
    "\n",
    "colours_list.extend(extra_colours)\n",
    "print(colours_list)\n",
    "\n",
    "# We can also access elements in a list the same way we can strings\n",
    "print(colours_list[2:5])"
   ]
  },
  {
   "cell_type": "code",
   "execution_count": 12,
   "metadata": {},
   "outputs": [
    {
     "name": "stdout",
     "output_type": "stream",
     "text": [
      "['blue', 'red', 'yellow', ['purple', 'pink'], 'purple', 'pink']\n"
     ]
    }
   ],
   "source": [
    "# We can remove list elements using.remove\n",
    "\n",
    "colours_list.remove(\"green\")\n",
    "print(colours_list)"
   ]
  },
  {
   "cell_type": "code",
   "execution_count": 13,
   "metadata": {},
   "outputs": [
    {
     "name": "stdout",
     "output_type": "stream",
     "text": [
      "[2, 3, 4, 6, 9, 3, 1]\n",
      "[2, 3, 4, 6, 9, 3, 1]\n",
      "[9, 6, 4, 3, 3, 2, 1]\n",
      "[1, 2, 3, 4, 7]\n"
     ]
    }
   ],
   "source": [
    "numbers_list = [2,3,4,6,9,3,1]\n",
    "print(numbers_list)\n",
    "\n",
    "# we can sort lists too, here using a method\n",
    "\n",
    "numbers_list.sort\n",
    "print(numbers_list)\n",
    "\n",
    "numbers_list.sort(reverse=True)\n",
    "print(numbers_list)\n",
    "\n",
    "# Here we sort a list using a function and returning it to a new variable\n",
    "sorted_list = sorted([1,4,7,3,2])\n",
    "print(sorted_list)"
   ]
  },
  {
   "cell_type": "code",
   "execution_count": 14,
   "metadata": {},
   "outputs": [
    {
     "name": "stdout",
     "output_type": "stream",
     "text": [
      "dog \n",
      "cat\n"
     ]
    }
   ],
   "source": [
    "# In this cell I've initialised a variable 'slice_this_phrase'. \n",
    "# On the next three lines, print the words dog, cat, and racoon seprately \n",
    "#using a slice from the beginning, a slice giving a range in the middle, and a slice from the end.\n",
    "# This means one slice will involve [:n], one will involve [n1:n2], and one will involve [-n:].\n",
    "\n",
    "slice_this_phrase = 'dog cat racoon'\n",
    "\n",
    "dog = slice_this_phrase[0:4]\n",
    "print(dog)\n",
    "cat = slice_this_phrase[4:7]\n",
    "print(cat)\n"
   ]
  }
 ],
 "metadata": {
  "kernelspec": {
   "display_name": "Python 3",
   "language": "python",
   "name": "python3"
  },
  "language_info": {
   "codemirror_mode": {
    "name": "ipython",
    "version": 3
   },
   "file_extension": ".py",
   "mimetype": "text/x-python",
   "name": "python",
   "nbconvert_exporter": "python",
   "pygments_lexer": "ipython3",
   "version": "3.10.13"
  }
 },
 "nbformat": 4,
 "nbformat_minor": 2
}
