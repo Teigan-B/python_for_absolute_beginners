{
 "cells": [
  {
   "cell_type": "code",
   "execution_count": 1,
   "metadata": {},
   "outputs": [
    {
     "name": "stdout",
     "output_type": "stream",
     "text": [
      "My name is Teigan\n",
      "M a\n",
      "nagieT si eman yM\n",
      "name is Teigan\n",
      "My name is T\n"
     ]
    }
   ],
   "source": [
    "phrase = \"My name is Teigan\"\n",
    "print(phrase)\n",
    "sub_string = phrase[0:6:2]\n",
    "print(sub_string)\n",
    "\n",
    "# [ start : stop : step]\n",
    "sub_string_1 = phrase[-1::-1]\n",
    "print(sub_string_1)\n",
    "\n",
    "sub_string_2 = phrase[3:]\n",
    "print(sub_string_2)\n",
    "\n",
    "sub_string_3 = phrase[:-5]\n",
    "print(sub_string_3)"
   ]
  },
  {
   "cell_type": "code",
   "execution_count": 2,
   "metadata": {},
   "outputs": [
    {
     "name": "stdout",
     "output_type": "stream",
     "text": [
      "['apples', 'carrots', 'bananas', 'melon', 'broccoli']\n",
      "['apples', 'carrots', 'bananas', 'melon', 'broccoli', 'blueberries']\n",
      "['strawberries', 'parsnips']\n",
      "['apples', 'carrots', 'bananas', 'melon', 'broccoli', 'blueberries', 'strawberries', 'parsnips']\n",
      "['apples', 'carrots', 'bananas', 'melon', 'broccoli', 'blueberries', 'strawberries', 'parsnips', 'cherries', 'potatoes']\n",
      "['apples', 'carrots', 'melon', 'broccoli', 'blueberries', 'strawberries', 'parsnips', 'cherries', 'potatoes']\n"
     ]
    }
   ],
   "source": [
    "# In this cell, make a list of a few foods and print it.\n",
    "# Then extend the list with another food and print it.\n",
    "# Next, make another list of foods, and use the extend method to \n",
    "# add those extra foods as individual elements of the list, and print it.\n",
    "# Finally, remove and element from the list and print the final list.\n",
    "# Remember to always use a suitable name for your lists!\n",
    "\n",
    "food_list = [\"apples\", \"carrots\", \"bananas\", \"melon\", \"broccoli\"]\n",
    "print(food_list)\n",
    "\n",
    "food_list.append(\"blueberries\")\n",
    "print(food_list)\n",
    "\n",
    "extra_foods = [\"strawberries\", \"parsnips\"]\n",
    "print(extra_foods)\n",
    "\n",
    "food_list.extend(extra_foods)\n",
    "print(food_list)\n",
    "\n",
    "food_list.extend([\"cherries\",\"potatoes\"])\n",
    "print(food_list)\n",
    "\n",
    "food_list.remove(\"bananas\")\n",
    "print(food_list)"
   ]
  },
  {
   "cell_type": "code",
   "execution_count": 3,
   "metadata": {},
   "outputs": [
    {
     "name": "stdout",
     "output_type": "stream",
     "text": [
      "[3, 6, 4, 5, 2, 8, 9, 6]\n",
      "[2, 3, 4, 5, 6, 6, 8, 9]\n",
      "[9, 8, 6, 6, 5, 4, 3, 2]\n",
      "[2, 3, 4, 5, 6, 6, 8, 9]\n"
     ]
    }
   ],
   "source": [
    "number_list = [3,6,4,5,2,8,9,6]\n",
    "print(number_list)\n",
    "\n",
    "number_list.sort()\n",
    "print(number_list)\n",
    "\n",
    "number_list.sort(reverse=True)\n",
    "print(number_list)\n",
    "\n",
    "sorted_list = sorted(number_list)\n",
    "print(sorted_list)"
   ]
  },
  {
   "cell_type": "code",
   "execution_count": 4,
   "metadata": {},
   "outputs": [
    {
     "name": "stdout",
     "output_type": "stream",
     "text": [
      "['apples', 'blueberries', 'broccoli', 'carrots', 'cherries', 'melon', 'parsnips', 'potatoes', 'strawberries']\n",
      "['strawberries', 'potatoes', 'parsnips', 'melon', 'cherries', 'carrots', 'broccoli', 'blueberries', 'apples']\n",
      "['apples', 'blueberries', 'broccoli', 'carrots', 'cherries', 'melon', 'parsnips', 'potatoes', 'strawberries']\n"
     ]
    }
   ],
   "source": [
    "# sort your final list of foods using the .sort() method and the sorted() \n",
    "# function, printing both, also try reversing it!\n",
    " \n",
    "food_list.sort()\n",
    "print(food_list)\n",
    "\n",
    "food_list.sort(reverse=True)\n",
    "print(food_list)\n",
    "\n",
    "sorted_food = sorted(food_list)\n",
    "print(sorted_food)"
   ]
  },
  {
   "cell_type": "code",
   "execution_count": 5,
   "metadata": {},
   "outputs": [
    {
     "name": "stdout",
     "output_type": "stream",
     "text": [
      "{'Teigan': 'Pink', 'Talia': ['Blue', 'Teal'], 'Tyki': {'Monday': 'Green', 'Tuesday': 'Yellow', 'Other days': 'Brown'}}\n"
     ]
    }
   ],
   "source": [
    "# Dictionaries\n",
    "\n",
    "favourite_colours = {\"Teigan\":\"Pink\",\n",
    "                     \"Talia\":[\"Blue\",\"Teal\"],\n",
    "                     \"Tyki\":{\"Monday\":\"Green\",\n",
    "                             \"Tuesday\":\"Yellow\",\n",
    "                             \"Other days\":\"Brown\"}}\n",
    "print(favourite_colours)\n",
    "\n",
    "# Here you can see I've stored strongs, lists, and even entire dictionaries inside strings"
   ]
  },
  {
   "cell_type": "code",
   "execution_count": 6,
   "metadata": {},
   "outputs": [
    {
     "data": {
      "text/plain": [
       "{'McDonalds': ['Burgers', 'Fries'],\n",
       " 'Burger King': 'Burgers',\n",
       " 'KFC': {'Mondays': 'Chicken',\n",
       "  'Tuesdays': 'Milkshakes',\n",
       "  'Other days': 'Salads'}}"
      ]
     },
     "execution_count": 6,
     "metadata": {},
     "output_type": "execute_result"
    }
   ],
   "source": [
    "# make a dictionary of restaurants with keys being the name and values being the foods,\n",
    "# make sure at least one vlaue is a list of foods, and another is a dicitonary of days and foods\n",
    "\n",
    "restaurant_foods = {\"McDonalds\":[\"Burgers\",\"Fries\"],\n",
    "                    \"Burger King\":\"Burgers\",\n",
    "                    \"KFC\":{\"Mondays\":\"Chicken\",\n",
    "                           \"Tuesdays\":\"Milkshakes\",\n",
    "                           \"Other days\":\"Salads\"}}\n",
    "\n",
    "restaurant_foods"
   ]
  },
  {
   "cell_type": "code",
   "execution_count": 7,
   "metadata": {},
   "outputs": [
    {
     "name": "stdout",
     "output_type": "stream",
     "text": [
      "{'McDonalds': ['Burgers', 'Fries'], 'Burger King': 'Burgers', 'KFC': {'Mondays': 'Chicken', 'Tuesdays': 'Milkshakes', 'Other days': 'Salads'}}\n"
     ]
    }
   ],
   "source": [
    "# list(d) will print the keys, in order from a dictionary\n",
    "\n",
    "restaurant_foods_keys = list(restaurant_foods)\n",
    "print(restaurant_foods)"
   ]
  },
  {
   "cell_type": "code",
   "execution_count": 8,
   "metadata": {},
   "outputs": [
    {
     "name": "stdout",
     "output_type": "stream",
     "text": [
      "McDonalds sell ['Burgers', 'Fries']\n",
      "Burger King sell Burgers\n",
      "KFC sell {'Mondays': 'Chicken', 'Tuesdays': 'Milkshakes', 'Other days': 'Salads'}\n"
     ]
    }
   ],
   "source": [
    "for restaurants, foods in restaurant_foods.items():\n",
    "    menu = f\"{restaurants} sell {foods}\"\n",
    "    print(menu)"
   ]
  },
  {
   "cell_type": "code",
   "execution_count": 9,
   "metadata": {},
   "outputs": [
    {
     "name": "stdout",
     "output_type": "stream",
     "text": [
      "dict_items([('Will', 'purple'), ('Andy', ['teal', 'red']), ('Naiomi', {'monday': 'blue', 'sunday': 'orange', 'other days': 'white'})])\n",
      "dict_values(['purple', ['teal', 'red'], {'monday': 'blue', 'sunday': 'orange', 'other days': 'white'}])\n",
      "dict_keys(['Will', 'Andy', 'Naiomi'])\n"
     ]
    }
   ],
   "source": [
    "will_favourite_colours = {\"Will\":\"purple\",\n",
    "                     \"Andy\":[\"teal\", \"red\"],\n",
    "                     \"Naiomi\":{\"monday\":\"blue\", \"sunday\":\"orange\", \"other days\":\"white\"}\n",
    "                     }\n",
    "\n",
    "will_favourite_colours\n",
    "print(will_favourite_colours.items()) # Prints all key:value pairs\n",
    "print(will_favourite_colours.values()) # Prints all values\n",
    "print(will_favourite_colours.keys()) # Prints all keys"
   ]
  },
  {
   "cell_type": "code",
   "execution_count": 10,
   "metadata": {},
   "outputs": [
    {
     "name": "stdout",
     "output_type": "stream",
     "text": [
      "purple\n",
      "{'Will': 'purple', 'Andy': ['teal', 'red'], 'Naiomi': {'monday': 'blue', 'sunday': 'orange', 'other days': 'white'}, 'Annie': 'Gold'}\n"
     ]
    }
   ],
   "source": [
    "# We can access the values associated with a key by passing it between square brackets after the dictionary's name\n",
    "\n",
    "wills_colours = will_favourite_colours[\"Will\"]\n",
    "print(wills_colours)\n",
    "\n",
    "# We can also add/update key value pairs in a similar way\n",
    "will_favourite_colours[\"Annie\"] = \"Gold\"\n",
    "print(will_favourite_colours)"
   ]
  },
  {
   "cell_type": "code",
   "execution_count": 11,
   "metadata": {},
   "outputs": [
    {
     "name": "stdout",
     "output_type": "stream",
     "text": [
      "{'Mondays': 'Chicken', 'Tuesdays': 'Milkshakes', 'Other days': 'Salads'}\n",
      "Burgers\n",
      "{'McDonalds': ['Burgers', 'Fries'], 'Burger King': 'Burgers', 'KFC': {'Mondays': 'Chicken', 'Tuesdays': 'Milkshakes', 'Other days': 'Salads'}, 'Five Guys': 'Sandwiches'}\n",
      "{'McDonalds': ['Burgers', 'Fries'], 'Burger King': 'Burgers', 'KFC': {'Mondays': 'Chicken', 'Tuesdays': 'Milkshakes', 'Other days': 'Salads'}, 'Five Guys': 'Sandwiches', 'Pizza Hut': ['strawberries', 'potatoes', 'parsnips', 'melon', 'cherries', 'carrots', 'broccoli', 'blueberries', 'apples']}\n",
      "True\n",
      "False\n"
     ]
    }
   ],
   "source": [
    "restaurant_foods\n",
    "\n",
    "# Using the key, print the values of one of the restaurants in your dicitonary.\n",
    "# Add a new key:value pair to your dictionary, as above.\n",
    "# Check whether 'mcdonalds' is a key in your dictionary, printing the answer.\n",
    "\n",
    "restaurant_1 = restaurant_foods[\"KFC\"]\n",
    "print(restaurant_1)\n",
    "\n",
    "print(restaurant_foods[\"Burger King\"])\n",
    "\n",
    "restaurant_foods[\"Five Guys\"] = \"Sandwiches\"\n",
    "print(restaurant_foods)\n",
    "\n",
    "restaurant_foods[\"Pizza Hut\"] = food_list\n",
    "print(restaurant_foods)\n",
    "\n",
    "print(\"McDonalds\" in restaurant_foods)\n",
    "print(\"mcdonalds\" in restaurant_foods)"
   ]
  }
 ],
 "metadata": {
  "kernelspec": {
   "display_name": "Python 3",
   "language": "python",
   "name": "python3"
  },
  "language_info": {
   "codemirror_mode": {
    "name": "ipython",
    "version": 3
   },
   "file_extension": ".py",
   "mimetype": "text/x-python",
   "name": "python",
   "nbconvert_exporter": "python",
   "pygments_lexer": "ipython3",
   "version": "3.10.13"
  }
 },
 "nbformat": 4,
 "nbformat_minor": 2
}
