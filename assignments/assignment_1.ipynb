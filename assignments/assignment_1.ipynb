{
 "cells": [
  {
   "cell_type": "code",
   "execution_count": 1,
   "metadata": {},
   "outputs": [
    {
     "name": "stdout",
     "output_type": "stream",
     "text": [
      "{'add': 12, 'subtract': 2, 'x_squared': 49, 'y_squared': 25, 'indice': 16807}\n"
     ]
    }
   ],
   "source": [
    "# Using an appropriate name, initialise an empty dicitonary which you will \n",
    "# store the outcome of some sums in.\n",
    "# Then, setting 7 as x and 5 as y, find:\n",
    "# x + y\n",
    "# x - y\n",
    "# x squared\n",
    "# y squared\n",
    "# x to the power y\n",
    "# Assigning each to a variable with an appropriate name.\n",
    "# Finally, add each of these answers as entries in your dicitonary \n",
    "# and print the dictionary.\n",
    "     \n",
    "\n",
    "calculations = {}\n",
    "x = 7\n",
    "y = 5\n",
    "add = x + y\n",
    "subtract = x - y\n",
    "x_squared = x**2\n",
    "y_squared = y**2\n",
    "indice = x**y\n",
    "calculations.update({\"add\":add,\n",
    "                     \"subtract\":subtract,\n",
    "                     \"x_squared\":x_squared,\n",
    "                     \"y_squared\":y_squared,\n",
    "                     \"indice\":indice})\n",
    "print(calculations)"
   ]
  },
  {
   "cell_type": "code",
   "execution_count": 2,
   "metadata": {},
   "outputs": [
    {
     "name": "stdout",
     "output_type": "stream",
     "text": [
      "4444\n",
      "XXXXXXXXXXXX4444\n"
     ]
    }
   ],
   "source": [
    "# Assume a credit card number is '4444444444444444', store this as a string with an appropriate name.\n",
    "# Slice the string to only show the last four digits with an appropriate name.\n",
    "# Manipulate the sliced variable so that it appears with an appropriate number of Xs before the last 4 digits\n",
    "# Giving this new string an appropriate name, print it.\n",
    "# Your print readout should look like 'XXXXXXXXXXXX4444'\n",
    "# At no point should you make a string from scratch that is just 'XXXXXXXXXXXX4444', that defeats the point of the exercise\n",
    "     \n",
    "\n",
    "credit_card_number = \"4444444444444444\"\n",
    "last_four = credit_card_number[-4:]\n",
    "print(last_four)\n",
    "anonymised_credit_card_number = \"XXXXXXXXXXXX\"+last_four\n",
    "print(anonymised_credit_card_number)"
   ]
  }
 ],
 "metadata": {
  "kernelspec": {
   "display_name": "Python 3",
   "language": "python",
   "name": "python3"
  },
  "language_info": {
   "codemirror_mode": {
    "name": "ipython",
    "version": 3
   },
   "file_extension": ".py",
   "mimetype": "text/x-python",
   "name": "python",
   "nbconvert_exporter": "python",
   "pygments_lexer": "ipython3",
   "version": "3.10.13"
  }
 },
 "nbformat": 4,
 "nbformat_minor": 2
}
