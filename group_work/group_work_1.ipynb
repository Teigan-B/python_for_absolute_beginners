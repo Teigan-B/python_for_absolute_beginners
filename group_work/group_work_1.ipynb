{
 "cells": [
  {
   "cell_type": "code",
   "execution_count": 1,
   "metadata": {},
   "outputs": [
    {
     "name": "stdout",
     "output_type": "stream",
     "text": [
      "{'Teigan': 'Performance Officer', 'Zivile': 'Performance Analyst', 'Felix': 'Data Officer'}\n",
      "dict_values(['Performance Officer', 'Performance Analyst', 'Data Officer'])\n",
      "['Teigan', 'Zivile', 'Felix']\n",
      "dict_keys(['Teigan', 'Zivile', 'Felix'])\n",
      "['Data Officer', 'Performance Analyst', 'Performance Officer']\n"
     ]
    }
   ],
   "source": [
    "# Make a dictionary which has the names of everyone in the group as keys, \n",
    "# and job titles as the values, print it. When everyone has a working version, \n",
    "# work out how to get all of the values from the dictionary as a single list, and \n",
    "# sort the new list alphabetically, assigned to a suitably named variable.\n",
    "\n",
    "\n",
    "name_title = {\"Teigan\":\"Performance Officer\", \n",
    "              \"Zivile\":\"Performance Analyst\",\n",
    "              \"Felix\":\"Data Officer\"}\n",
    "print(name_title)\n",
    "print(name_title.values())\n",
    "print(list(name_title))\n",
    "print(name_title.keys())\n",
    "ordered_list = sorted(name_title.values())\n",
    "print(ordered_list)"
   ]
  },
  {
   "cell_type": "code",
   "execution_count": 2,
   "metadata": {},
   "outputs": [
    {
     "name": "stdout",
     "output_type": "stream",
     "text": [
      "Teigan\n",
      "Zivile\n",
      "Felix\n",
      "Performance Officer\n",
      "Performance Analyst\n",
      "Data Officer\n",
      "My name is Teigan.\n",
      "My name is Zivile.\n",
      "My name is Felix.\n",
      "My name is Teigan and my job title is Performance Officer.\n",
      "My name is Zivile and my job title is Performance Analyst.\n",
      "My name is Felix and my job title is Data Officer.\n"
     ]
    }
   ],
   "source": [
    "# I would like you to use google as your main resource to work out how to use \n",
    "# a for loop to print each set of keys/values from your dictionary on new lines, \n",
    "# one line per loop, with the resulting form 'My name is and my job is '. \n",
    "\n",
    "for x in name_title:\n",
    "    print(x)\n",
    "\n",
    "for y in name_title.values():\n",
    "    print(y)\n",
    "\n",
    "for key in name_title:\n",
    "        name_phrase = f\"My name is {key}.\"\n",
    "        print(name_phrase)\n",
    "\n",
    "for name, job_title in name_title.items():\n",
    "    phrase = f\"My name is {name} and my job title is {job_title}.\"\n",
    "    print(phrase)"
   ]
  }
 ],
 "metadata": {
  "kernelspec": {
   "display_name": "Python 3",
   "language": "python",
   "name": "python3"
  },
  "language_info": {
   "codemirror_mode": {
    "name": "ipython",
    "version": 3
   },
   "file_extension": ".py",
   "mimetype": "text/x-python",
   "name": "python",
   "nbconvert_exporter": "python",
   "pygments_lexer": "ipython3",
   "version": "3.10.13"
  }
 },
 "nbformat": 4,
 "nbformat_minor": 2
}
